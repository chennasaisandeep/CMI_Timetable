{
 "cells": [
  {
   "cell_type": "code",
   "execution_count": 2,
   "metadata": {},
   "outputs": [
    {
     "name": "stdout",
     "output_type": "stream",
     "text": [
      "requirements.txt generated successfully.\n"
     ]
    }
   ],
   "source": [
    "import subprocess\n",
    "\n",
    "# List of required modules\n",
    "modules = [\n",
    "    \"base64\", \"beautifulsoup4\", \"collections\", \"io\", \"matplotlib\", \n",
    "    \"pandas\", \"requests\", \"six\", \"st-aggrid\", \"streamlit\"\n",
    "]\n",
    "\n",
    "# Create an empty requirements list\n",
    "requirements = []\n",
    "\n",
    "for module in modules:\n",
    "    try:\n",
    "        # Try to get the version of the module using pip\n",
    "        result = subprocess.run([f\"pip show {module}\"], shell=True, capture_output=True, text=True)\n",
    "        if result.returncode == 0:\n",
    "            # Extract the version from the output\n",
    "            for line in result.stdout.splitlines():\n",
    "                if line.startswith(\"Version:\"):\n",
    "                    version = line.split(\":\")[1].strip()\n",
    "                    requirements.append(f\"{module}=={version}\")\n",
    "                    break\n",
    "        else:\n",
    "            requirements.append(f\"{module} not found\")\n",
    "    except Exception as e:\n",
    "        requirements.append(f\"Error with {module}: {e}\")\n",
    "\n",
    "# Write to requirements.txt\n",
    "with open(\"requirements.txt\", \"w\") as file:\n",
    "    file.write(\"\\n\".join(requirements))\n",
    "\n",
    "print(\"requirements.txt generated successfully.\")\n"
   ]
  }
 ],
 "metadata": {
  "kernelspec": {
   "display_name": "DataScience_python310",
   "language": "python",
   "name": "python3"
  },
  "language_info": {
   "codemirror_mode": {
    "name": "ipython",
    "version": 3
   },
   "file_extension": ".py",
   "mimetype": "text/x-python",
   "name": "python",
   "nbconvert_exporter": "python",
   "pygments_lexer": "ipython3",
   "version": "3.10.14"
  }
 },
 "nbformat": 4,
 "nbformat_minor": 2
}
